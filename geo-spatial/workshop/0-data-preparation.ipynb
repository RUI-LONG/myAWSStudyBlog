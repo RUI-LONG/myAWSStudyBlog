{
 "cells": [
  {
   "cell_type": "code",
   "execution_count": 1,
   "metadata": {},
   "outputs": [
    {
     "name": "stdout",
     "output_type": "stream",
     "text": [
      "download: s3://redshift-downloads/spatial-data/accommodations.csv to data/accommodations.csv\n",
      "download: s3://redshift-downloads/spatial-data/zipcode.csv to data/zipcode.csv\n",
      "--2020-09-23 13:34:14--  https://download.geonames.org/export/dump/DE.zip\n",
      "Resolving download.geonames.org (download.geonames.org)... 188.40.33.19\n",
      "Connecting to download.geonames.org (download.geonames.org)|188.40.33.19|:443... connected.\n",
      "HTTP request sent, awaiting response... 200 OK\n",
      "Length: 6462364 (6.2M) [application/zip]\n",
      "Saving to: ‘DE.zip’\n",
      "\n",
      "DE.zip              100%[===================>]   6.16M  19.8KB/s    in 5m 6s   \n",
      "\n",
      "2020-09-23 13:39:21 (20.6 KB/s) - ‘DE.zip’ saved [6462364/6462364]\n",
      "\n",
      "--2020-09-23 13:39:21--  http://./data/DE.zip\n",
      "Resolving . (.)... failed: No address associated with hostname.\n",
      "wget: unable to resolve host address ‘.’\n",
      "FINISHED --2020-09-23 13:39:21--\n",
      "Total wall clock time: 5m 7s\n",
      "Downloaded: 1 files, 6.2M in 5m 6s (20.6 KB/s)\n"
     ]
    }
   ],
   "source": [
    "# Download the dataset for accommodations and zip code\n",
    "\n",
    "!mkdir -p ./data\n",
    "!aws s3 cp 's3://redshift-downloads/spatial-data/accommodations.csv' './data/accommodations.csv'\n",
    "!aws s3 cp 's3://redshift-downloads/spatial-data/zipcode.csv' './data/zipcode.csv'\n",
    "\n",
    "# point of interest data of germany (https://download.geonames.org/export/dump/)\n",
    "!wget 'https://download.geonames.org/export/dump/DE.zip'"
   ]
  },
  {
   "cell_type": "code",
   "execution_count": 2,
   "metadata": {},
   "outputs": [],
   "source": [
    "import boto3\n",
    "\n",
    "region = boto3.session.Session().region_name\n",
    "bucket = f'beyoung-{region}-20200823'"
   ]
  },
  {
   "cell_type": "code",
   "execution_count": 3,
   "metadata": {},
   "outputs": [
    {
     "name": "stdout",
     "output_type": "stream",
     "text": [
      "{\r\n",
      "    \"Location\": \"http://beyoung-us-west-2-20200823.s3.amazonaws.com/\"\r\n",
      "}\r\n"
     ]
    }
   ],
   "source": [
    "if region != 'us-east-1':\n",
    "    !aws s3api create-bucket --bucket {bucket} --create-bucket-configuration LocationConstraint={region}\n",
    "else:\n",
    "    !aws s3api create-bucket --bucket {bucket}"
   ]
  },
  {
   "cell_type": "code",
   "execution_count": 6,
   "metadata": {},
   "outputs": [
    {
     "name": "stdout",
     "output_type": "stream",
     "text": [
      "Archive:  ./data/DE.zip\n",
      "  inflating: readme.txt              \n",
      "  inflating: DE.txt                  \n"
     ]
    }
   ],
   "source": [
    "!unzip ./DE.zip "
   ]
  },
  {
   "cell_type": "code",
   "execution_count": 7,
   "metadata": {},
   "outputs": [],
   "source": [
    "!mv DE.txt ./data/."
   ]
  },
  {
   "cell_type": "code",
   "execution_count": 10,
   "metadata": {},
   "outputs": [
    {
     "name": "stdout",
     "output_type": "stream",
     "text": [
      "upload: data/accommodations.csv to s3://beyoung-us-west-2-20200823/geo-spatial-tutorial/accommodations.csv\n",
      "upload: data/zipcode.csv to s3://beyoung-us-west-2-20200823/geo-spatial-tutorial/zipcode.csv\n",
      "upload: data/DE.txt to s3://beyoung-us-west-2-20200823/geo-spatial-tutorial/DE.txt\n"
     ]
    }
   ],
   "source": [
    "!aws s3 cp ./data s3://{bucket}/geo-spatial-tutorial --recursive"
   ]
  },
  {
   "cell_type": "code",
   "execution_count": null,
   "metadata": {},
   "outputs": [],
   "source": []
  }
 ],
 "metadata": {
  "kernelspec": {
   "display_name": "conda_python3",
   "language": "python",
   "name": "conda_python3"
  },
  "language_info": {
   "codemirror_mode": {
    "name": "ipython",
    "version": 3
   },
   "file_extension": ".py",
   "mimetype": "text/x-python",
   "name": "python",
   "nbconvert_exporter": "python",
   "pygments_lexer": "ipython3",
   "version": "3.6.10"
  }
 },
 "nbformat": 4,
 "nbformat_minor": 4
}
