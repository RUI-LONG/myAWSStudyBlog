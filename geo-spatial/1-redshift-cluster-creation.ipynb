{
 "cells": [
  {
   "cell_type": "code",
   "execution_count": null,
   "metadata": {},
   "outputs": [],
   "source": [
    "!pip install awswrangler"
   ]
  },
  {
   "cell_type": "markdown",
   "metadata": {},
   "source": [
    "# Create Redshift"
   ]
  },
  {
   "cell_type": "code",
   "execution_count": 1,
   "metadata": {},
   "outputs": [],
   "source": [
    "import boto3\n",
    "import secrets\n",
    "import string\n",
    "import json\n",
    "import time\n",
    "from datetime import datetime"
   ]
  },
  {
   "cell_type": "code",
   "execution_count": 2,
   "metadata": {},
   "outputs": [],
   "source": [
    "rdsht = boto3.client('redshift')\n",
    "scm = boto3.client('secretsmanager')"
   ]
  },
  {
   "cell_type": "markdown",
   "metadata": {},
   "source": [
    "### generate password"
   ]
  },
  {
   "cell_type": "code",
   "execution_count": 9,
   "metadata": {},
   "outputs": [],
   "source": [
    "alphabet = string.ascii_letters + string.digits\n",
    "password = ''.join(secrets.choice(alphabet) for i in range(20)) # for a 20-character password"
   ]
  },
  {
   "cell_type": "markdown",
   "metadata": {},
   "source": [
    "## Configuration of redshift"
   ]
  },
  {
   "cell_type": "code",
   "execution_count": 10,
   "metadata": {},
   "outputs": [],
   "source": [
    "# redshift configuration\n",
    "DBName='dev'\n",
    "ClusterIdentifier='redshift-beyoung-' + datetime.today().strftime('%Y%m%d-%H-%M')\n",
    "NodeType='ra3.4xlarge'\n",
    "MasterUsername='awsuser'"
   ]
  },
  {
   "cell_type": "code",
   "execution_count": 11,
   "metadata": {},
   "outputs": [
    {
     "data": {
      "text/plain": [
       "{'Cluster': {'ClusterIdentifier': 'redshift-beyoung-20200922-10-07',\n",
       "  'NodeType': 'ra3.4xlarge',\n",
       "  'ClusterStatus': 'creating',\n",
       "  'ClusterAvailabilityStatus': 'Modifying',\n",
       "  'MasterUsername': 'awsuser',\n",
       "  'DBName': 'dev',\n",
       "  'AutomatedSnapshotRetentionPeriod': 1,\n",
       "  'ManualSnapshotRetentionPeriod': -1,\n",
       "  'ClusterSecurityGroups': [],\n",
       "  'VpcSecurityGroups': [{'VpcSecurityGroupId': 'sg-c81633b2',\n",
       "    'Status': 'active'}],\n",
       "  'ClusterParameterGroups': [{'ParameterGroupName': 'default.redshift-1.0',\n",
       "    'ParameterApplyStatus': 'in-sync'}],\n",
       "  'ClusterSubnetGroupName': 'default',\n",
       "  'VpcId': 'vpc-bcef6bda',\n",
       "  'PreferredMaintenanceWindow': 'sat:08:00-sat:08:30',\n",
       "  'PendingModifiedValues': {'MasterUserPassword': '****'},\n",
       "  'ClusterVersion': '1.0',\n",
       "  'AllowVersionUpgrade': True,\n",
       "  'NumberOfNodes': 2,\n",
       "  'PubliclyAccessible': False,\n",
       "  'Encrypted': False,\n",
       "  'Tags': [],\n",
       "  'EnhancedVpcRouting': False,\n",
       "  'IamRoles': [],\n",
       "  'MaintenanceTrackName': 'current',\n",
       "  'DeferredMaintenanceWindows': [],\n",
       "  'NextMaintenanceWindowStartTime': datetime.datetime(2020, 9, 26, 8, 0, tzinfo=tzlocal())},\n",
       " 'ResponseMetadata': {'RequestId': '0d0de904-080b-4634-9da1-07bd4c59923b',\n",
       "  'HTTPStatusCode': 200,\n",
       "  'HTTPHeaders': {'x-amzn-requestid': '0d0de904-080b-4634-9da1-07bd4c59923b',\n",
       "   'content-type': 'text/xml',\n",
       "   'content-length': '2034',\n",
       "   'date': 'Tue, 22 Sep 2020 10:07:55 GMT'},\n",
       "  'RetryAttempts': 0}}"
      ]
     },
     "execution_count": 11,
     "metadata": {},
     "output_type": "execute_result"
    }
   ],
   "source": [
    "rdsht.create_cluster(DBName=DBName, ClusterIdentifier=ClusterIdentifier, NodeType='ra3.4xlarge',\n",
    "                     MasterUsername=MasterUsername,MasterUserPassword=password, NumberOfNodes=2, PubliclyAccessible=False)"
   ]
  },
  {
   "cell_type": "code",
   "execution_count": null,
   "metadata": {},
   "outputs": [],
   "source": [
    "status = ''\n",
    "while status != 'Available':\n",
    "    status=rdsht.describe_clusters(ClusterIdentifier=ClusterIdentifier)['Clusters'][0]['ClusterAvailabilityStatus']\n",
    "    print(status)\n",
    "    time.sleep(3)"
   ]
  },
  {
   "cell_type": "code",
   "execution_count": 14,
   "metadata": {},
   "outputs": [],
   "source": [
    "response=rdsht.describe_clusters(ClusterIdentifier=ClusterIdentifier)['Clusters'][0]\n",
    "vpcid = response['VpcId']\n",
    "sg = response['VpcSecurityGroups'][0]['VpcSecurityGroupId']\n",
    "endpoint = response['Endpoint']"
   ]
  },
  {
   "cell_type": "markdown",
   "metadata": {},
   "source": [
    "## Save connection info to secrete manager"
   ]
  },
  {
   "cell_type": "code",
   "execution_count": 18,
   "metadata": {},
   "outputs": [
    {
     "data": {
      "text/plain": [
       "{'ARN': 'arn:aws:secretsmanager:us-west-2:232367251376:secret:redshift-beyoung-20200922-10-07-CIQS68',\n",
       " 'Name': 'redshift-beyoung-20200922-10-07',\n",
       " 'VersionId': '9daa17d6-df67-4a70-9c7c-3a07f4cd6371',\n",
       " 'ResponseMetadata': {'RequestId': 'e498c731-fe04-4d6a-9b98-9da5b868034c',\n",
       "  'HTTPStatusCode': 200,\n",
       "  'HTTPHeaders': {'date': 'Tue, 22 Sep 2020 10:26:52 GMT',\n",
       "   'content-type': 'application/x-amz-json-1.1',\n",
       "   'content-length': '193',\n",
       "   'connection': 'keep-alive',\n",
       "   'x-amzn-requestid': 'e498c731-fe04-4d6a-9b98-9da5b868034c'},\n",
       "  'RetryAttempts': 0}}"
      ]
     },
     "execution_count": 18,
     "metadata": {},
     "output_type": "execute_result"
    }
   ],
   "source": [
    "# secrete manager configuration\n",
    "scName=ClusterIdentifier\n",
    "scString=json.dumps({'username':MasterUsername, 'password':password, 'host':endpoint['Address'], 'port':endpoint['Port'], 'dbname': DBName})\n",
    "scm.create_secret(Name=scName, Description=scName, SecretString=scString)"
   ]
  },
  {
   "cell_type": "markdown",
   "metadata": {},
   "source": [
    "## Creating an IAM role to allow your Amazon Redshift cluster to access AWS services"
   ]
  },
  {
   "cell_type": "code",
   "execution_count": 27,
   "metadata": {},
   "outputs": [],
   "source": [
    "iam = boto3.client('iam')"
   ]
  },
  {
   "cell_type": "code",
   "execution_count": 28,
   "metadata": {},
   "outputs": [],
   "source": [
    "# configuration iam role\n",
    "# https://docs.aws.amazon.com/redshift/latest/mgmt/authorizing-redshift-service.html\n",
    "role='beyoung.redshift.copyunload.role'\n",
    "assume_role_policy_document={\n",
    "    \"Version\": \"2012-10-17\",\n",
    "    \"Statement\": [\n",
    "        {\n",
    "        \"Effect\": \"Allow\",\n",
    "        \"Principal\": {\n",
    "            \"Service\": \"redshift.amazonaws.com\"\n",
    "        },\n",
    "        \"Action\": \"sts:AssumeRole\"\n",
    "        }\n",
    "    ]    \n",
    "}\n",
    "execution_policy_arn=[\n",
    "    'arn:aws:iam::aws:policy/AmazonS3ReadOnlyAccess',\n",
    "    'arn:aws:iam::aws:policy/AWSGlueConsoleFullAccess',\n",
    "    'arn:aws:iam::aws:policy/AmazonAthenaFullAccess'   \n",
    "]"
   ]
  },
  {
   "cell_type": "code",
   "execution_count": 33,
   "metadata": {},
   "outputs": [],
   "source": [
    "role_arn=iam.create_role(RoleName=role, AssumeRolePolicyDocument=json.dumps(assume_role_policy_document))['Role']['Arn']\n",
    "[iam.attach_role_policy(RoleName=role,PolicyArn=policy) for policy in execution_policy_arn];"
   ]
  },
  {
   "cell_type": "code",
   "execution_count": 35,
   "metadata": {},
   "outputs": [],
   "source": [
    "# Attach role to redshift\n",
    "rdsht.modify_cluster_iam_roles(ClusterIdentifier=ClusterIdentifier,AddIamRoles=[role_arn]);"
   ]
  },
  {
   "cell_type": "markdown",
   "metadata": {},
   "source": [
    "# Connect to Redshift"
   ]
  },
  {
   "cell_type": "code",
   "execution_count": 21,
   "metadata": {},
   "outputs": [],
   "source": [
    "import awswrangler as wr"
   ]
  },
  {
   "cell_type": "code",
   "execution_count": 22,
   "metadata": {},
   "outputs": [],
   "source": [
    "response = scm.get_secret_value(SecretId=scName)\n",
    "dbInfo = json.loads(response['SecretString'])"
   ]
  },
  {
   "cell_type": "code",
   "execution_count": 23,
   "metadata": {},
   "outputs": [],
   "source": [
    "eng_redshift = wr.db.get_engine(db_type='redshift',host=dbInfo['host'],port=dbInfo['port'],\n",
    "                          database=dbInfo['dbname'],user=dbInfo['username'],password=dbInfo['password'])"
   ]
  },
  {
   "cell_type": "code",
   "execution_count": 26,
   "metadata": {},
   "outputs": [],
   "source": [
    "sql='select schemaname, tablename from pg_tables order by schemaname, tablename;'\n",
    "tables = []\n",
    "output = eng_redshift.execute(sql)\n",
    "for row in output:\n",
    "    tables.append(row)\n",
    "tables"
   ]
  },
  {
   "cell_type": "markdown",
   "metadata": {},
   "source": [
    "# Pause Redshift"
   ]
  },
  {
   "cell_type": "code",
   "execution_count": null,
   "metadata": {},
   "outputs": [],
   "source": [
    "rdsht.pause_cluster(ClusterIdentifier=ClusterIdentifier);"
   ]
  },
  {
   "cell_type": "markdown",
   "metadata": {},
   "source": [
    "# Clean up resources"
   ]
  },
  {
   "cell_type": "code",
   "execution_count": null,
   "metadata": {},
   "outputs": [],
   "source": [
    "# # delete redshift cluster\n",
    "# respones=rdsht.delete_cluster(ClusterIdentifier=ClusterIdentifier, SkipFinalClusterSnapshot=True)\n",
    "# respones"
   ]
  },
  {
   "cell_type": "code",
   "execution_count": null,
   "metadata": {},
   "outputs": [],
   "source": [
    "# delete role\n",
    "# [iam.detach_role_policy(RoleName=role,PolicyArn=policy) for policy in execution_policy_arn]\n",
    "# iam.delete_role(RoleName=role)"
   ]
  },
  {
   "cell_type": "code",
   "execution_count": null,
   "metadata": {},
   "outputs": [],
   "source": [
    "# import psycopg2\n",
    "# from sqlalchemy import create_engine\n",
    "# from sqlalchemy import text\n",
    "\n",
    "# engine_string=f\"postgresql+psycopg2://{rdsht_user}:{rdsht_pass}@{rdsht_endpoint}:{rdsht_port}/{DBName}\"\n",
    "# engine = create_engine(engine_string)"
   ]
  }
 ],
 "metadata": {
  "kernelspec": {
   "display_name": "conda_python3",
   "language": "python",
   "name": "conda_python3"
  },
  "language_info": {
   "codemirror_mode": {
    "name": "ipython",
    "version": 3
   },
   "file_extension": ".py",
   "mimetype": "text/x-python",
   "name": "python",
   "nbconvert_exporter": "python",
   "pygments_lexer": "ipython3",
   "version": "3.6.10"
  }
 },
 "nbformat": 4,
 "nbformat_minor": 4
}
