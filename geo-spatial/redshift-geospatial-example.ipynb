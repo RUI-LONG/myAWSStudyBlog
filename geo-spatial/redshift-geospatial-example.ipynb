{
 "cells": [
  {
   "cell_type": "code",
   "execution_count": null,
   "metadata": {},
   "outputs": [],
   "source": [
    "!pip install awswrangler"
   ]
  },
  {
   "cell_type": "code",
   "execution_count": 1,
   "metadata": {},
   "outputs": [],
   "source": [
    "import boto3\n",
    "import awswrangler as wr\n",
    "import json"
   ]
  },
  {
   "cell_type": "code",
   "execution_count": 2,
   "metadata": {},
   "outputs": [],
   "source": [
    "rdshft = boto3.client('redshift')\n",
    "scm = boto3.client('secretsmanager')"
   ]
  },
  {
   "cell_type": "code",
   "execution_count": 3,
   "metadata": {},
   "outputs": [],
   "source": [
    "# configuration\n",
    "rdshft_cluster='redshift-beyoung-20200922-10-07'\n",
    "role_arn=rdshft.describe_clusters(ClusterIdentifier=rdshft_cluster)['Clusters'][0]['IamRoles'][0]['IamRoleArn'];"
   ]
  },
  {
   "cell_type": "code",
   "execution_count": 4,
   "metadata": {},
   "outputs": [],
   "source": [
    "response = scm.get_secret_value(SecretId=rdshft_cluster)\n",
    "dbInfo = json.loads(response['SecretString']);"
   ]
  },
  {
   "cell_type": "code",
   "execution_count": 18,
   "metadata": {},
   "outputs": [],
   "source": [
    "eng_redshift = wr.db.get_engine(db_type='redshift',host=dbInfo['host'],port=dbInfo['port'],\n",
    "                          database=dbInfo['dbname'],user=dbInfo['username'],password=dbInfo['password'])\n",
    "conn = eng_redshift.connect()"
   ]
  },
  {
   "cell_type": "markdown",
   "metadata": {},
   "source": [
    "# create tables and insert into data"
   ]
  },
  {
   "cell_type": "code",
   "execution_count": 7,
   "metadata": {},
   "outputs": [],
   "source": [
    "sql_acc='''\n",
    "DROP TABLE IF EXISTS public.accommodations;\n",
    "CREATE TABLE public.accommodations (\n",
    "  id INTEGER PRIMARY KEY,\n",
    "  shape GEOMETRY,\n",
    "  name VARCHAR(100),\n",
    "  host_name VARCHAR(100),\n",
    "  neighbourhood_group VARCHAR(100),\n",
    "  neighbourhood VARCHAR(100),\n",
    "  room_type VARCHAR(100),\n",
    "  price SMALLINT,\n",
    "  minimum_nights SMALLINT,\n",
    "  number_of_reviews SMALLINT,\n",
    "  last_review DATE,\n",
    "  reviews_per_month NUMERIC(8,2),\n",
    "  calculated_host_listings_count SMALLINT, \n",
    "  availability_365 SMALLINT\n",
    ");\n",
    "'''"
   ]
  },
  {
   "cell_type": "code",
   "execution_count": 8,
   "metadata": {},
   "outputs": [],
   "source": [
    "conn.execute(sql_acc);"
   ]
  },
  {
   "cell_type": "code",
   "execution_count": 7,
   "metadata": {},
   "outputs": [],
   "source": [
    "sql_acc_data=f'''\n",
    "COPY public.accommodations\n",
    "FROM 's3://redshift-downloads/spatial-data/accommodations.csv'\n",
    "DELIMITER ';'\n",
    "IGNOREHEADER 1 REGION 'us-east-1'\n",
    "CREDENTIALS 'aws_iam_role={role_arn}';\n",
    "'''"
   ]
  },
  {
   "cell_type": "code",
   "execution_count": 8,
   "metadata": {},
   "outputs": [],
   "source": [
    "conn.execute(sql_acc_data);"
   ]
  },
  {
   "cell_type": "code",
   "execution_count": 9,
   "metadata": {},
   "outputs": [],
   "source": [
    "sql_zip='''\n",
    "DROP TABLE IF EXISTS public.zipcode;\n",
    "CREATE TABLE public.zipcode (\n",
    "  ogc_field INTEGER PRIMARY KEY NOT NULL,\n",
    "  wkb_geometry GEOMETRY,\n",
    "  gml_id VARCHAR,\n",
    "  spatial_name VARCHAR,\n",
    "  spatial_alias VARCHAR,\n",
    "  spatial_type VARCHAR\n",
    " );\n",
    "'''"
   ]
  },
  {
   "cell_type": "code",
   "execution_count": 10,
   "metadata": {},
   "outputs": [],
   "source": [
    "conn.execute(sql_zip);"
   ]
  },
  {
   "cell_type": "code",
   "execution_count": 16,
   "metadata": {},
   "outputs": [],
   "source": [
    "sql_zip_data=f'''\n",
    "COPY public.zipcode\n",
    "FROM 's3://redshift-downloads/spatial-data/zipcode.csv'\n",
    "DELIMITER ';'\n",
    "IGNOREHEADER 1 REGION 'us-east-1'\n",
    "CREDENTIALS 'aws_iam_role={role_arn}';\n",
    "'''"
   ]
  },
  {
   "cell_type": "code",
   "execution_count": 19,
   "metadata": {},
   "outputs": [],
   "source": [
    "conn.execute(sql_zip_data);"
   ]
  },
  {
   "cell_type": "markdown",
   "metadata": {},
   "source": [
    "# Querying spatial data"
   ]
  },
  {
   "cell_type": "code",
   "execution_count": 20,
   "metadata": {},
   "outputs": [
    {
     "data": {
      "text/html": [
       "<div>\n",
       "<style scoped>\n",
       "    .dataframe tbody tr th:only-of-type {\n",
       "        vertical-align: middle;\n",
       "    }\n",
       "\n",
       "    .dataframe tbody tr th {\n",
       "        vertical-align: top;\n",
       "    }\n",
       "\n",
       "    .dataframe thead th {\n",
       "        text-align: right;\n",
       "    }\n",
       "</style>\n",
       "<table border=\"1\" class=\"dataframe\">\n",
       "  <thead>\n",
       "    <tr style=\"text-align: right;\">\n",
       "      <th></th>\n",
       "      <th>count</th>\n",
       "    </tr>\n",
       "  </thead>\n",
       "  <tbody>\n",
       "    <tr>\n",
       "      <th>0</th>\n",
       "      <td>22248</td>\n",
       "    </tr>\n",
       "  </tbody>\n",
       "</table>\n",
       "</div>"
      ],
      "text/plain": [
       "   count\n",
       "0  22248"
      ]
     },
     "execution_count": 20,
     "metadata": {},
     "output_type": "execute_result"
    }
   ],
   "source": [
    "sql='SELECT count(*) FROM public.accommodations WHERE ST_SRID(shape) = 4326;'\n",
    "wr.db.read_sql_query(sql, con=eng_redshift)"
   ]
  },
  {
   "cell_type": "code",
   "execution_count": null,
   "metadata": {},
   "outputs": [],
   "source": [
    "# [{column: value for column, value in rowproxy.items()} for rowproxy in resultproxy]"
   ]
  },
  {
   "cell_type": "code",
   "execution_count": 21,
   "metadata": {},
   "outputs": [],
   "source": [
    "sql='''\n",
    "SELECT \n",
    "  ogc_field, spatial_name, spatial_type, \n",
    "  ST_SRID(wkb_geometry), ST_AsText(wkb_geometry) \n",
    "FROM public.zipcode \n",
    "ORDER BY spatial_name;\n",
    "'''"
   ]
  },
  {
   "cell_type": "code",
   "execution_count": null,
   "metadata": {},
   "outputs": [],
   "source": [
    "wr.db.read_sql_query(sql, con=eng_redshift)"
   ]
  },
  {
   "cell_type": "code",
   "execution_count": null,
   "metadata": {},
   "outputs": [],
   "source": [
    "SELECT \n",
    "  ogc_field, spatial_name, \n",
    "  ST_AsGeoJSON(wkb_geometry), ST_Dimension(wkb_geometry), ST_NPoints(wkb_geometry)\n",
    "FROM public.zipcode \n",
    "WHERE spatial_name='10117';"
   ]
  },
  {
   "cell_type": "code",
   "execution_count": null,
   "metadata": {},
   "outputs": [],
   "source": [
    "SELECT count(*) \n",
    "FROM public.accommodations \n",
    "WHERE ST_DWithin(shape, ST_GeomFromText('POINT(13.377704 52.516431)', 4326), 0.01);"
   ]
  },
  {
   "cell_type": "code",
   "execution_count": null,
   "metadata": {},
   "outputs": [],
   "source": [
    "WITH poi(loc) as (\n",
    "  SELECT st_astext(shape) FROM accommodations WHERE name LIKE '%brandenburg gate%'\n",
    ")\n",
    "SELECT count(*) \n",
    "FROM accommodations a, poi p\n",
    "WHERE st_dwithin(a.shape, ST_GeomFromText(p.loc, 4326), 0.01);"
   ]
  },
  {
   "cell_type": "code",
   "execution_count": null,
   "metadata": {},
   "outputs": [],
   "source": [
    "SELECT name, price, ST_AsText(shape) \n",
    "FROM public.accommodations\n",
    "WHERE ST_DWithin(shape, ST_GeomFromText('POINT(13.377704 52.516431)', 4326), 0.01)\n",
    "ORDER BY price DESC;"
   ]
  },
  {
   "cell_type": "code",
   "execution_count": null,
   "metadata": {},
   "outputs": [],
   "source": [
    "SELECT \n",
    "  a.price, a.name, ST_AsText(a.shape), \n",
    "  z.spatial_name, ST_AsText(z.wkb_geometry) \n",
    "FROM accommodations a, zipcode z \n",
    "WHERE \n",
    "  ST_Within(a.shape, z.wkb_geometry) AND \n",
    "  price = (SELECT avg(price) FROM accommodations);"
   ]
  },
  {
   "cell_type": "code",
   "execution_count": null,
   "metadata": {},
   "outputs": [],
   "source": [
    "SELECT z.spatial_name as zip, count(*) as numAccommodations \n",
    "FROM public.accommodations a, public.zipcode z\n",
    "WHERE ST_Within(a.shape, z.wkb_geometry)\n",
    "GROUP BY zip \n",
    "ORDER BY numAccommodations DESC;"
   ]
  },
  {
   "cell_type": "markdown",
   "metadata": {},
   "source": [
    "# Running spatial queries on data stored in Amazon Spectrum"
   ]
  },
  {
   "cell_type": "code",
   "execution_count": null,
   "metadata": {},
   "outputs": [],
   "source": [
    "create external schema spectrumdb from data catalog \n",
    "database 'spectrumdb' \n",
    "iam_role 'arn:aws:iam::123456789012:role/mySpectrumRole' \n",
    "create external database \n",
    "if not exists;"
   ]
  },
  {
   "cell_type": "code",
   "execution_count": null,
   "metadata": {},
   "outputs": [],
   "source": [
    "create external table spectrumdb.geoname (\n",
    "    geonameid   INT,\n",
    "    name VARCHAR(200),\n",
    "    asciiname VARCHAR(200),\n",
    "    alternatenames TEXT,\n",
    "    latitude FLOAT,\n",
    "    longitude FLOAT,\n",
    "    fclass CHAR(1),\n",
    "    fcode VARCHAR(10),\n",
    "    country VARCHAR(2),\n",
    "    cc2 VARCHAR(60),\n",
    "    admin1 VARCHAR(20),\n",
    "    admin2 VARCHAR(80),\n",
    "    admin3 VARCHAR(20),\n",
    "    admin4 VARCHAR(20),\n",
    "    population BIGINT,\n",
    "    elevation INT,\n",
    "    gtopo30 INT,\n",
    "    timezone VARCHAR(40),\n",
    "    moddate DATE\n",
    " )\n",
    " row format delimited fields terminated by '\\t' \n",
    " stored as textfile location 's3://yourSpectrumData/';"
   ]
  },
  {
   "cell_type": "code",
   "execution_count": null,
   "metadata": {},
   "outputs": [],
   "source": [
    "SELECT ST_GeomFromText('POINT('||longitude||' '||latitude||')', 4326) \n",
    "FROM spectrumdb.geoname; "
   ]
  },
  {
   "cell_type": "code",
   "execution_count": null,
   "metadata": {},
   "outputs": [],
   "source": [
    "SELECT \n",
    "  *, \n",
    "  ST_GeomFromText('POINT('||longitude||' '||latitude||')', 4326) \n",
    "FROM \n",
    "  spectrumdb.geoname\n",
    "WHERE \n",
    "  ST_DWithin(\n",
    "    ST_GeomFromText('POINT('||longitude||' '||latitude||')', 4326), \n",
    "    ST_GeomFromText('POINT(13.377704 52.516431)', 4326), \n",
    "    0.01);"
   ]
  },
  {
   "cell_type": "code",
   "execution_count": null,
   "metadata": {},
   "outputs": [],
   "source": [
    "COPY public.geoname \n",
    "FROM 's3://hinnerk/spatial/DE.csv' \n",
    "DELIMITER '\\t' \n",
    "MAXERROR 1000\n",
    "CREDENTIALS 'aws_iam_role=arn:aws:iam::279345015071:role/SpatialDemoRole';"
   ]
  }
 ],
 "metadata": {
  "kernelspec": {
   "display_name": "conda_python3",
   "language": "python",
   "name": "conda_python3"
  },
  "language_info": {
   "codemirror_mode": {
    "name": "ipython",
    "version": 3
   },
   "file_extension": ".py",
   "mimetype": "text/x-python",
   "name": "python",
   "nbconvert_exporter": "python",
   "pygments_lexer": "ipython3",
   "version": "3.6.10"
  }
 },
 "nbformat": 4,
 "nbformat_minor": 4
}
